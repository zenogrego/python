{
 "cells": [
  {
   "cell_type": "code",
   "execution_count": 147,
   "id": "30b81771-615d-41f9-b078-8fe8e6fd20e0",
   "metadata": {},
   "outputs": [],
   "source": [
    "import numpy as np\n",
    "plt.style.use(['science', 'notebook'])\n",
    "import sympy as smp"
   ]
  },
  {
   "cell_type": "code",
   "execution_count": 2,
   "id": "f89d3837-029e-478e-a27f-90a777dbfaad",
   "metadata": {},
   "outputs": [],
   "source": [
    "class libri():\n",
    "    def __init__(self, nome, quantita):\n",
    "        self.n = nome \n",
    "        self.q = quantita "
   ]
  },
  {
   "cell_type": "code",
   "execution_count": 91,
   "id": "73f299f6-02bf-4967-af64-105f63339803",
   "metadata": {},
   "outputs": [],
   "source": [
    "elenco_disponibili = np.array( [libri(\"Farenheit 451\", 10), libri(\"Zibaldone\", 7), libri(\"Aristotele metaphysics\", 5), \n",
    "                              libri(\"Alchimista\", 1), libri(\"Harry Potter\", 0), libri(\"cime tempestose\", 1)] )"
   ]
  },
  {
   "cell_type": "code",
   "execution_count": 92,
   "id": "c3d98709-57eb-47f9-ab44-5e3bd0843fe6",
   "metadata": {},
   "outputs": [
    {
     "data": {
      "text/plain": [
       "array([<__main__.libri object at 0x7fa413e666d0>,\n",
       "       <__main__.libri object at 0x7fa413e669d0>,\n",
       "       <__main__.libri object at 0x7fa413e66fa0>,\n",
       "       <__main__.libri object at 0x7fa413e66070>,\n",
       "       <__main__.libri object at 0x7fa413e66520>,\n",
       "       <__main__.libri object at 0x7fa413e664c0>], dtype=object)"
      ]
     },
     "execution_count": 92,
     "metadata": {},
     "output_type": "execute_result"
    }
   ],
   "source": [
    "elenco_disponibili"
   ]
  },
  {
   "cell_type": "code",
   "execution_count": 93,
   "id": "40751491-ec18-482a-9775-bf0c3e31e2ed",
   "metadata": {},
   "outputs": [],
   "source": [
    "pippo = \"Harry Potter\""
   ]
  },
  {
   "cell_type": "code",
   "execution_count": 94,
   "id": "b7ac898a-5358-4616-8e94-c4b3f6243505",
   "metadata": {},
   "outputs": [
    {
     "data": {
      "text/plain": [
       "'Harry Potter'"
      ]
     },
     "execution_count": 94,
     "metadata": {},
     "output_type": "execute_result"
    }
   ],
   "source": [
    "pippo"
   ]
  },
  {
   "cell_type": "code",
   "execution_count": 75,
   "id": "828f5d39-a2fc-405d-9a0a-ae091812cb98",
   "metadata": {},
   "outputs": [
    {
     "data": {
      "text/plain": [
       "'Harry Potter'"
      ]
     },
     "execution_count": 75,
     "metadata": {},
     "output_type": "execute_result"
    }
   ],
   "source": [
    "elenco_disponibili[4].n"
   ]
  },
  {
   "cell_type": "code",
   "execution_count": 102,
   "id": "0a680c2d-a17c-467c-ad04-7e38a3c482f9",
   "metadata": {},
   "outputs": [],
   "source": [
    "prestito = np.array([])\n",
    "ordinare = np.array([])\n",
    "esauriti = np.array([libri(\"j\", 0)])"
   ]
  },
  {
   "cell_type": "code",
   "execution_count": 103,
   "id": "abb2c5ca-71ba-4bc6-88f9-124d924c1916",
   "metadata": {},
   "outputs": [
    {
     "data": {
      "text/plain": [
       "array([<__main__.libri object at 0x7fa413e724c0>], dtype=object)"
      ]
     },
     "execution_count": 103,
     "metadata": {},
     "output_type": "execute_result"
    }
   ],
   "source": [
    "esauriti"
   ]
  },
  {
   "cell_type": "code",
   "execution_count": 104,
   "id": "eae5e7eb-1015-4435-94df-1f6a84d26dcb",
   "metadata": {},
   "outputs": [],
   "source": [
    "qualcosa = True"
   ]
  },
  {
   "cell_type": "code",
   "execution_count": 128,
   "id": "39ce213e-d652-4e76-b13c-e1929ee32923",
   "metadata": {},
   "outputs": [
    {
     "name": "stdout",
     "output_type": "stream",
     "text": [
      "non disponibile\n"
     ]
    }
   ],
   "source": [
    "for i in range(np.size(elenco_disponibili)):\n",
    "    if pippo == elenco_disponibili[i].n:\n",
    "        if elenco_disponibili[i].q != 0:\n",
    "            print('prenotato')\n",
    "            elenco_disponibili[i].q = elenco_disponibili[i].q-1\n",
    "            qualcosa = False\n",
    "        else:\n",
    "            print('non disponibile')\n",
    "            #elencoi = np.array([elenco_disponibili[i]])\n",
    "            #np.append(esauriti,  elenco_disponibili[i])\n",
    "            np.delete(elenco_disponibili, i)\n",
    "            "
   ]
  },
  {
   "cell_type": "code",
   "execution_count": 132,
   "id": "7afb8d0b-34ca-4679-a07a-805b0f54f8af",
   "metadata": {},
   "outputs": [
    {
     "data": {
      "text/plain": [
       "0"
      ]
     },
     "execution_count": 132,
     "metadata": {},
     "output_type": "execute_result"
    }
   ],
   "source": [
    "elenco_disponibili[4].q"
   ]
  },
  {
   "cell_type": "code",
   "execution_count": 119,
   "id": "fae05c73-3642-4589-8392-ed514d229ad9",
   "metadata": {},
   "outputs": [
    {
     "data": {
      "text/plain": [
       "array([<__main__.libri object at 0x7fa413e724c0>], dtype=object)"
      ]
     },
     "execution_count": 119,
     "metadata": {},
     "output_type": "execute_result"
    }
   ],
   "source": [
    "esauriti"
   ]
  },
  {
   "cell_type": "code",
   "execution_count": 120,
   "id": "7338835c-f052-4c8d-83cb-382f9f807650",
   "metadata": {},
   "outputs": [
    {
     "name": "stdout",
     "output_type": "stream",
     "text": [
      "non disponibile\n"
     ]
    }
   ],
   "source": [
    "if qualcosa:\n",
    "    print('non disponibile')"
   ]
  },
  {
   "cell_type": "code",
   "execution_count": 133,
   "id": "1550a295-c2b6-4efc-8d3b-4953d6156ef9",
   "metadata": {},
   "outputs": [],
   "source": [
    "l = list(['a', 'b', 'c', 'd', 'a'])"
   ]
  },
  {
   "cell_type": "code",
   "execution_count": 134,
   "id": "ae8edd6b-5e36-48e1-ac0d-14bbe77aaed6",
   "metadata": {},
   "outputs": [
    {
     "data": {
      "text/plain": [
       "list"
      ]
     },
     "execution_count": 134,
     "metadata": {},
     "output_type": "execute_result"
    }
   ],
   "source": [
    "type(l)"
   ]
  },
  {
   "cell_type": "code",
   "execution_count": 135,
   "id": "8c05b437-4e83-4774-9fdb-96ae8bc54f75",
   "metadata": {},
   "outputs": [],
   "source": [
    "pippo = 'a'"
   ]
  },
  {
   "cell_type": "code",
   "execution_count": 136,
   "id": "95cd5413-c742-4eba-bfed-e92cd5c36424",
   "metadata": {},
   "outputs": [],
   "source": [
    "def f(num, lista):\n",
    "    for i in range(0,len(lista)):\n",
    "        if num == lista[i]:\n",
    "            print(' è nella lista nella posizione ', i)\n",
    "    return"
   ]
  },
  {
   "cell_type": "code",
   "execution_count": 137,
   "id": "a737b745-ae28-4cd2-8363-94dec8c34d2b",
   "metadata": {},
   "outputs": [
    {
     "name": "stdout",
     "output_type": "stream",
     "text": [
      " è nella lista nella posizione  0\n",
      " è nella lista nella posizione  4\n"
     ]
    }
   ],
   "source": [
    "f(pippo, l)"
   ]
  },
  {
   "cell_type": "code",
   "execution_count": 138,
   "id": "ffbf40f4-a3e2-43a7-b9fd-e84548f7236b",
   "metadata": {},
   "outputs": [],
   "source": [
    "class dizionario():\n",
    "    def __init__(self, lettera, quantita):\n",
    "        self.l = lettera \n",
    "        self.q = quantita "
   ]
  },
  {
   "cell_type": "code",
   "execution_count": 139,
   "id": "82bd5075-1b66-442b-a5dd-01578cb245d9",
   "metadata": {},
   "outputs": [],
   "source": [
    "def f(array):\n",
    "    contatore =  np.array([dizionario('a', 0), dizionario('b', 0), dizionario('c', 0), dizionario('d', 0), dizionario('e', 0),\n",
    "                           dizionario('f', 0), dizionario('g', 0), dizionario('h', 0), \n",
    "                           dizionario('i', 0), dizionario('j', 0), dizionario('k', 0),\n",
    "                           dizionario('l', 0) , dizionario('m', 0), dizionario('n', 0), dizionario('o', 0) , dizionario('p', 0),\n",
    "                           dizionario('q', 0) ,dizionario('r', 0) , dizionario('s', 0), dizionario('t', 0), dizionario('u', 0),\n",
    "                           dizionario('v', 0),dizionario('w', 0),dizionario('x', 0) ,dizionario('y', 0),dizionario('z', 0)])\n",
    "                           \n",
    "    for i in range(np.size(contatore)):\n",
    "        a = contatore[i].l\n",
    "        for j in range( np.size(array) ):\n",
    "            if a  == array[j]: \n",
    "                    contatore[i].q = contatore[i].q + 1\n",
    "                    \n",
    "        print(contatore[i].l, ' ', contatore[i].q)"
   ]
  },
  {
   "cell_type": "code",
   "execution_count": 140,
   "id": "228c6aa2-040d-4d61-83f9-b6495e78dd5f",
   "metadata": {},
   "outputs": [],
   "source": [
    "parole = np.array(['a', 'b', 'c', 'd', 'e', 'e'])"
   ]
  },
  {
   "cell_type": "code",
   "execution_count": 141,
   "id": "fc77799a-2828-43fb-9be3-fb6f6b8f18c1",
   "metadata": {},
   "outputs": [
    {
     "name": "stdout",
     "output_type": "stream",
     "text": [
      "a   1\n",
      "b   1\n",
      "c   1\n",
      "d   1\n",
      "e   2\n",
      "f   0\n",
      "g   0\n",
      "h   0\n",
      "i   0\n",
      "j   0\n",
      "k   0\n",
      "l   0\n",
      "m   0\n",
      "n   0\n",
      "o   0\n",
      "p   0\n",
      "q   0\n",
      "r   0\n",
      "s   0\n",
      "t   0\n",
      "u   0\n",
      "v   0\n",
      "w   0\n",
      "x   0\n",
      "y   0\n",
      "z   0\n"
     ]
    }
   ],
   "source": [
    "f(parole)"
   ]
  },
  {
   "cell_type": "code",
   "execution_count": 142,
   "id": "f175d79f-f605-44fb-8c75-5e3fef14a58f",
   "metadata": {},
   "outputs": [],
   "source": [
    "N = 4"
   ]
  },
  {
   "cell_type": "code",
   "execution_count": 143,
   "id": "c3c39098-adcd-471a-b48d-86868cfdb20f",
   "metadata": {},
   "outputs": [
    {
     "name": "stdout",
     "output_type": "stream",
     "text": [
      "####\n",
      "####\n",
      "####\n",
      "####\n"
     ]
    }
   ],
   "source": [
    "for i in range(N):\n",
    "    print('#'*N)"
   ]
  },
  {
   "cell_type": "code",
   "execution_count": 144,
   "id": "9ca14964-18f9-41a6-a8ce-64ad6ed93a5e",
   "metadata": {},
   "outputs": [
    {
     "ename": "KeyboardInterrupt",
     "evalue": "Interrupted by user",
     "output_type": "error",
     "traceback": [
      "\u001b[0;31m---------------------------------------------------------------------------\u001b[0m",
      "\u001b[0;31mKeyboardInterrupt\u001b[0m                         Traceback (most recent call last)",
      "Input \u001b[0;32mIn [144]\u001b[0m, in \u001b[0;36m<cell line: 2>\u001b[0;34m()\u001b[0m\n\u001b[1;32m      1\u001b[0m N\u001b[38;5;241m=\u001b[39m\u001b[38;5;241m0\u001b[39m\n\u001b[1;32m      2\u001b[0m \u001b[38;5;28;01mwhile\u001b[39;00m N\u001b[38;5;241m<\u001b[39m\u001b[38;5;241m=\u001b[39m\u001b[38;5;241m0\u001b[39m:\n\u001b[0;32m----> 3\u001b[0m     N \u001b[38;5;241m=\u001b[39m \u001b[38;5;28;43minput\u001b[39;49m\u001b[43m(\u001b[49m\u001b[43m)\u001b[49m\n\u001b[1;32m      4\u001b[0m     \u001b[38;5;28;01mwhile\u001b[39;00m \u001b[38;5;129;01mnot\u001b[39;00m(N\u001b[38;5;241m.\u001b[39misdigit()):\n\u001b[1;32m      5\u001b[0m         N \u001b[38;5;241m=\u001b[39m \u001b[38;5;28minput\u001b[39m()\n",
      "File \u001b[0;32m~/opt/anaconda3/lib/python3.8/site-packages/ipykernel/kernelbase.py:1075\u001b[0m, in \u001b[0;36mKernel.raw_input\u001b[0;34m(self, prompt)\u001b[0m\n\u001b[1;32m   1071\u001b[0m \u001b[38;5;28;01mif\u001b[39;00m \u001b[38;5;129;01mnot\u001b[39;00m \u001b[38;5;28mself\u001b[39m\u001b[38;5;241m.\u001b[39m_allow_stdin:\n\u001b[1;32m   1072\u001b[0m     \u001b[38;5;28;01mraise\u001b[39;00m StdinNotImplementedError(\n\u001b[1;32m   1073\u001b[0m         \u001b[38;5;124m\"\u001b[39m\u001b[38;5;124mraw_input was called, but this frontend does not support input requests.\u001b[39m\u001b[38;5;124m\"\u001b[39m\n\u001b[1;32m   1074\u001b[0m     )\n\u001b[0;32m-> 1075\u001b[0m \u001b[38;5;28;01mreturn\u001b[39;00m \u001b[38;5;28;43mself\u001b[39;49m\u001b[38;5;241;43m.\u001b[39;49m\u001b[43m_input_request\u001b[49m\u001b[43m(\u001b[49m\n\u001b[1;32m   1076\u001b[0m \u001b[43m    \u001b[49m\u001b[38;5;28;43mstr\u001b[39;49m\u001b[43m(\u001b[49m\u001b[43mprompt\u001b[49m\u001b[43m)\u001b[49m\u001b[43m,\u001b[49m\n\u001b[1;32m   1077\u001b[0m \u001b[43m    \u001b[49m\u001b[38;5;28;43mself\u001b[39;49m\u001b[38;5;241;43m.\u001b[39;49m\u001b[43m_parent_ident\u001b[49m\u001b[43m[\u001b[49m\u001b[38;5;124;43m\"\u001b[39;49m\u001b[38;5;124;43mshell\u001b[39;49m\u001b[38;5;124;43m\"\u001b[39;49m\u001b[43m]\u001b[49m\u001b[43m,\u001b[49m\n\u001b[1;32m   1078\u001b[0m \u001b[43m    \u001b[49m\u001b[38;5;28;43mself\u001b[39;49m\u001b[38;5;241;43m.\u001b[39;49m\u001b[43mget_parent\u001b[49m\u001b[43m(\u001b[49m\u001b[38;5;124;43m\"\u001b[39;49m\u001b[38;5;124;43mshell\u001b[39;49m\u001b[38;5;124;43m\"\u001b[39;49m\u001b[43m)\u001b[49m\u001b[43m,\u001b[49m\n\u001b[1;32m   1079\u001b[0m \u001b[43m    \u001b[49m\u001b[43mpassword\u001b[49m\u001b[38;5;241;43m=\u001b[39;49m\u001b[38;5;28;43;01mFalse\u001b[39;49;00m\u001b[43m,\u001b[49m\n\u001b[1;32m   1080\u001b[0m \u001b[43m\u001b[49m\u001b[43m)\u001b[49m\n",
      "File \u001b[0;32m~/opt/anaconda3/lib/python3.8/site-packages/ipykernel/kernelbase.py:1120\u001b[0m, in \u001b[0;36mKernel._input_request\u001b[0;34m(self, prompt, ident, parent, password)\u001b[0m\n\u001b[1;32m   1117\u001b[0m             \u001b[38;5;28;01mbreak\u001b[39;00m\n\u001b[1;32m   1118\u001b[0m \u001b[38;5;28;01mexcept\u001b[39;00m \u001b[38;5;167;01mKeyboardInterrupt\u001b[39;00m:\n\u001b[1;32m   1119\u001b[0m     \u001b[38;5;66;03m# re-raise KeyboardInterrupt, to truncate traceback\u001b[39;00m\n\u001b[0;32m-> 1120\u001b[0m     \u001b[38;5;28;01mraise\u001b[39;00m \u001b[38;5;167;01mKeyboardInterrupt\u001b[39;00m(\u001b[38;5;124m\"\u001b[39m\u001b[38;5;124mInterrupted by user\u001b[39m\u001b[38;5;124m\"\u001b[39m) \u001b[38;5;28;01mfrom\u001b[39;00m \u001b[38;5;28mNone\u001b[39m\n\u001b[1;32m   1121\u001b[0m \u001b[38;5;28;01mexcept\u001b[39;00m \u001b[38;5;167;01mException\u001b[39;00m:\n\u001b[1;32m   1122\u001b[0m     \u001b[38;5;28mself\u001b[39m\u001b[38;5;241m.\u001b[39mlog\u001b[38;5;241m.\u001b[39mwarning(\u001b[38;5;124m\"\u001b[39m\u001b[38;5;124mInvalid Message:\u001b[39m\u001b[38;5;124m\"\u001b[39m, exc_info\u001b[38;5;241m=\u001b[39m\u001b[38;5;28;01mTrue\u001b[39;00m)\n",
      "\u001b[0;31mKeyboardInterrupt\u001b[0m: Interrupted by user"
     ]
    }
   ],
   "source": [
    "N=0\n",
    "while N<=0:\n",
    "    N = input()\n",
    "    while not(N.isdigit()):\n",
    "        N = input()\n",
    "    N = int(N)\n",
    "for i in range(N):\n",
    "    print('#'*N)"
   ]
  },
  {
   "cell_type": "code",
   "execution_count": 145,
   "id": "621b7e0a-c5f6-46bf-8e66-7a205e4c4789",
   "metadata": {},
   "outputs": [
    {
     "ename": "KeyboardInterrupt",
     "evalue": "Interrupted by user",
     "output_type": "error",
     "traceback": [
      "\u001b[0;31m---------------------------------------------------------------------------\u001b[0m",
      "\u001b[0;31mKeyboardInterrupt\u001b[0m                         Traceback (most recent call last)",
      "Input \u001b[0;32mIn [145]\u001b[0m, in \u001b[0;36m<cell line: 17>\u001b[0;34m()\u001b[0m\n\u001b[1;32m     16\u001b[0m c\u001b[38;5;241m=\u001b[39m\u001b[38;5;124m'\u001b[39m\u001b[38;5;124ms\u001b[39m\u001b[38;5;124m'\u001b[39m\n\u001b[1;32m     17\u001b[0m \u001b[38;5;28;01mwhile\u001b[39;00m c\u001b[38;5;241m==\u001b[39m\u001b[38;5;124m'\u001b[39m\u001b[38;5;124ms\u001b[39m\u001b[38;5;124m'\u001b[39m:\n\u001b[0;32m---> 18\u001b[0m     a\u001b[38;5;241m=\u001b[39m\u001b[43mleggi\u001b[49m\u001b[43m(\u001b[49m\u001b[43m)\u001b[49m\n\u001b[1;32m     19\u001b[0m     b\u001b[38;5;241m=\u001b[39mleggi()\n\u001b[1;32m     20\u001b[0m     f(a,b)\n",
      "Input \u001b[0;32mIn [145]\u001b[0m, in \u001b[0;36mleggi\u001b[0;34m()\u001b[0m\n\u001b[1;32m      8\u001b[0m N\u001b[38;5;241m=\u001b[39m\u001b[38;5;241m0\u001b[39m\n\u001b[1;32m      9\u001b[0m \u001b[38;5;28;01mwhile\u001b[39;00m N\u001b[38;5;241m<\u001b[39m\u001b[38;5;241m=\u001b[39m\u001b[38;5;241m2\u001b[39m:\n\u001b[0;32m---> 10\u001b[0m     N \u001b[38;5;241m=\u001b[39m \u001b[38;5;28;43minput\u001b[39;49m\u001b[43m(\u001b[49m\u001b[43m)\u001b[49m\n\u001b[1;32m     11\u001b[0m     \u001b[38;5;28;01mwhile\u001b[39;00m \u001b[38;5;129;01mnot\u001b[39;00m(N\u001b[38;5;241m.\u001b[39misdigit()):\n\u001b[1;32m     12\u001b[0m         N \u001b[38;5;241m=\u001b[39m \u001b[38;5;28minput\u001b[39m()\n",
      "File \u001b[0;32m~/opt/anaconda3/lib/python3.8/site-packages/ipykernel/kernelbase.py:1075\u001b[0m, in \u001b[0;36mKernel.raw_input\u001b[0;34m(self, prompt)\u001b[0m\n\u001b[1;32m   1071\u001b[0m \u001b[38;5;28;01mif\u001b[39;00m \u001b[38;5;129;01mnot\u001b[39;00m \u001b[38;5;28mself\u001b[39m\u001b[38;5;241m.\u001b[39m_allow_stdin:\n\u001b[1;32m   1072\u001b[0m     \u001b[38;5;28;01mraise\u001b[39;00m StdinNotImplementedError(\n\u001b[1;32m   1073\u001b[0m         \u001b[38;5;124m\"\u001b[39m\u001b[38;5;124mraw_input was called, but this frontend does not support input requests.\u001b[39m\u001b[38;5;124m\"\u001b[39m\n\u001b[1;32m   1074\u001b[0m     )\n\u001b[0;32m-> 1075\u001b[0m \u001b[38;5;28;01mreturn\u001b[39;00m \u001b[38;5;28;43mself\u001b[39;49m\u001b[38;5;241;43m.\u001b[39;49m\u001b[43m_input_request\u001b[49m\u001b[43m(\u001b[49m\n\u001b[1;32m   1076\u001b[0m \u001b[43m    \u001b[49m\u001b[38;5;28;43mstr\u001b[39;49m\u001b[43m(\u001b[49m\u001b[43mprompt\u001b[49m\u001b[43m)\u001b[49m\u001b[43m,\u001b[49m\n\u001b[1;32m   1077\u001b[0m \u001b[43m    \u001b[49m\u001b[38;5;28;43mself\u001b[39;49m\u001b[38;5;241;43m.\u001b[39;49m\u001b[43m_parent_ident\u001b[49m\u001b[43m[\u001b[49m\u001b[38;5;124;43m\"\u001b[39;49m\u001b[38;5;124;43mshell\u001b[39;49m\u001b[38;5;124;43m\"\u001b[39;49m\u001b[43m]\u001b[49m\u001b[43m,\u001b[49m\n\u001b[1;32m   1078\u001b[0m \u001b[43m    \u001b[49m\u001b[38;5;28;43mself\u001b[39;49m\u001b[38;5;241;43m.\u001b[39;49m\u001b[43mget_parent\u001b[49m\u001b[43m(\u001b[49m\u001b[38;5;124;43m\"\u001b[39;49m\u001b[38;5;124;43mshell\u001b[39;49m\u001b[38;5;124;43m\"\u001b[39;49m\u001b[43m)\u001b[49m\u001b[43m,\u001b[49m\n\u001b[1;32m   1079\u001b[0m \u001b[43m    \u001b[49m\u001b[43mpassword\u001b[49m\u001b[38;5;241;43m=\u001b[39;49m\u001b[38;5;28;43;01mFalse\u001b[39;49;00m\u001b[43m,\u001b[49m\n\u001b[1;32m   1080\u001b[0m \u001b[43m\u001b[49m\u001b[43m)\u001b[49m\n",
      "File \u001b[0;32m~/opt/anaconda3/lib/python3.8/site-packages/ipykernel/kernelbase.py:1120\u001b[0m, in \u001b[0;36mKernel._input_request\u001b[0;34m(self, prompt, ident, parent, password)\u001b[0m\n\u001b[1;32m   1117\u001b[0m             \u001b[38;5;28;01mbreak\u001b[39;00m\n\u001b[1;32m   1118\u001b[0m \u001b[38;5;28;01mexcept\u001b[39;00m \u001b[38;5;167;01mKeyboardInterrupt\u001b[39;00m:\n\u001b[1;32m   1119\u001b[0m     \u001b[38;5;66;03m# re-raise KeyboardInterrupt, to truncate traceback\u001b[39;00m\n\u001b[0;32m-> 1120\u001b[0m     \u001b[38;5;28;01mraise\u001b[39;00m \u001b[38;5;167;01mKeyboardInterrupt\u001b[39;00m(\u001b[38;5;124m\"\u001b[39m\u001b[38;5;124mInterrupted by user\u001b[39m\u001b[38;5;124m\"\u001b[39m) \u001b[38;5;28;01mfrom\u001b[39;00m \u001b[38;5;28mNone\u001b[39m\n\u001b[1;32m   1121\u001b[0m \u001b[38;5;28;01mexcept\u001b[39;00m \u001b[38;5;167;01mException\u001b[39;00m:\n\u001b[1;32m   1122\u001b[0m     \u001b[38;5;28mself\u001b[39m\u001b[38;5;241m.\u001b[39mlog\u001b[38;5;241m.\u001b[39mwarning(\u001b[38;5;124m\"\u001b[39m\u001b[38;5;124mInvalid Message:\u001b[39m\u001b[38;5;124m\"\u001b[39m, exc_info\u001b[38;5;241m=\u001b[39m\u001b[38;5;28;01mTrue\u001b[39;00m)\n",
      "\u001b[0;31mKeyboardInterrupt\u001b[0m: Interrupted by user"
     ]
    }
   ],
   "source": [
    "def f(a, b):\n",
    "    print('#'*a)\n",
    "    for i in range(b-2):\n",
    "        print('#'+' '*(a-2)+'#')\n",
    "    print('#'*a)\n",
    "\n",
    "def leggi():\n",
    "    N=0\n",
    "    while N<=2:\n",
    "        N = input()\n",
    "        while not(N.isdigit()):\n",
    "            N = input()\n",
    "        N = int(N)\n",
    "    return N\n",
    "\n",
    "c='s'\n",
    "while c=='s':\n",
    "    a=leggi()\n",
    "    b=leggi()\n",
    "    f(a,b)\n",
    "    c=input('vuoi continuare? [s/n]')"
   ]
  },
  {
   "cell_type": "code",
   "execution_count": 146,
   "id": "80a49171-4db3-4704-93af-5072bc9daf54",
   "metadata": {},
   "outputs": [
    {
     "ename": "KeyboardInterrupt",
     "evalue": "Interrupted by user",
     "output_type": "error",
     "traceback": [
      "\u001b[0;31m---------------------------------------------------------------------------\u001b[0m",
      "\u001b[0;31mKeyboardInterrupt\u001b[0m                         Traceback (most recent call last)",
      "Input \u001b[0;32mIn [146]\u001b[0m, in \u001b[0;36m<cell line: 10>\u001b[0;34m()\u001b[0m\n\u001b[1;32m      7\u001b[0m         N \u001b[38;5;241m=\u001b[39m \u001b[38;5;28mint\u001b[39m(N)\n\u001b[1;32m      8\u001b[0m     \u001b[38;5;28;01mreturn\u001b[39;00m N\n\u001b[0;32m---> 10\u001b[0m tentativi\u001b[38;5;241m=\u001b[39m\u001b[43mleggi\u001b[49m\u001b[43m(\u001b[49m\u001b[43m)\u001b[49m\n\u001b[1;32m     11\u001b[0m c\u001b[38;5;241m=\u001b[39m\u001b[38;5;124m'\u001b[39m\u001b[38;5;124ms\u001b[39m\u001b[38;5;124m'\u001b[39m\n\u001b[1;32m     12\u001b[0m \u001b[38;5;28;01mwhile\u001b[39;00m c\u001b[38;5;241m==\u001b[39m\u001b[38;5;124m'\u001b[39m\u001b[38;5;124ms\u001b[39m\u001b[38;5;124m'\u001b[39m: \n",
      "Input \u001b[0;32mIn [146]\u001b[0m, in \u001b[0;36mleggi\u001b[0;34m()\u001b[0m\n\u001b[1;32m      2\u001b[0m N\u001b[38;5;241m=\u001b[39m\u001b[38;5;241m0\u001b[39m\n\u001b[1;32m      3\u001b[0m \u001b[38;5;28;01mwhile\u001b[39;00m N\u001b[38;5;241m<\u001b[39m\u001b[38;5;241m=\u001b[39m\u001b[38;5;241m0\u001b[39m:\n\u001b[0;32m----> 4\u001b[0m     N \u001b[38;5;241m=\u001b[39m \u001b[38;5;28;43minput\u001b[39;49m\u001b[43m(\u001b[49m\u001b[43m)\u001b[49m\n\u001b[1;32m      5\u001b[0m     \u001b[38;5;28;01mwhile\u001b[39;00m \u001b[38;5;129;01mnot\u001b[39;00m(N\u001b[38;5;241m.\u001b[39misdigit()):\n\u001b[1;32m      6\u001b[0m         N \u001b[38;5;241m=\u001b[39m \u001b[38;5;28minput\u001b[39m()\n",
      "File \u001b[0;32m~/opt/anaconda3/lib/python3.8/site-packages/ipykernel/kernelbase.py:1075\u001b[0m, in \u001b[0;36mKernel.raw_input\u001b[0;34m(self, prompt)\u001b[0m\n\u001b[1;32m   1071\u001b[0m \u001b[38;5;28;01mif\u001b[39;00m \u001b[38;5;129;01mnot\u001b[39;00m \u001b[38;5;28mself\u001b[39m\u001b[38;5;241m.\u001b[39m_allow_stdin:\n\u001b[1;32m   1072\u001b[0m     \u001b[38;5;28;01mraise\u001b[39;00m StdinNotImplementedError(\n\u001b[1;32m   1073\u001b[0m         \u001b[38;5;124m\"\u001b[39m\u001b[38;5;124mraw_input was called, but this frontend does not support input requests.\u001b[39m\u001b[38;5;124m\"\u001b[39m\n\u001b[1;32m   1074\u001b[0m     )\n\u001b[0;32m-> 1075\u001b[0m \u001b[38;5;28;01mreturn\u001b[39;00m \u001b[38;5;28;43mself\u001b[39;49m\u001b[38;5;241;43m.\u001b[39;49m\u001b[43m_input_request\u001b[49m\u001b[43m(\u001b[49m\n\u001b[1;32m   1076\u001b[0m \u001b[43m    \u001b[49m\u001b[38;5;28;43mstr\u001b[39;49m\u001b[43m(\u001b[49m\u001b[43mprompt\u001b[49m\u001b[43m)\u001b[49m\u001b[43m,\u001b[49m\n\u001b[1;32m   1077\u001b[0m \u001b[43m    \u001b[49m\u001b[38;5;28;43mself\u001b[39;49m\u001b[38;5;241;43m.\u001b[39;49m\u001b[43m_parent_ident\u001b[49m\u001b[43m[\u001b[49m\u001b[38;5;124;43m\"\u001b[39;49m\u001b[38;5;124;43mshell\u001b[39;49m\u001b[38;5;124;43m\"\u001b[39;49m\u001b[43m]\u001b[49m\u001b[43m,\u001b[49m\n\u001b[1;32m   1078\u001b[0m \u001b[43m    \u001b[49m\u001b[38;5;28;43mself\u001b[39;49m\u001b[38;5;241;43m.\u001b[39;49m\u001b[43mget_parent\u001b[49m\u001b[43m(\u001b[49m\u001b[38;5;124;43m\"\u001b[39;49m\u001b[38;5;124;43mshell\u001b[39;49m\u001b[38;5;124;43m\"\u001b[39;49m\u001b[43m)\u001b[49m\u001b[43m,\u001b[49m\n\u001b[1;32m   1079\u001b[0m \u001b[43m    \u001b[49m\u001b[43mpassword\u001b[49m\u001b[38;5;241;43m=\u001b[39;49m\u001b[38;5;28;43;01mFalse\u001b[39;49;00m\u001b[43m,\u001b[49m\n\u001b[1;32m   1080\u001b[0m \u001b[43m\u001b[49m\u001b[43m)\u001b[49m\n",
      "File \u001b[0;32m~/opt/anaconda3/lib/python3.8/site-packages/ipykernel/kernelbase.py:1120\u001b[0m, in \u001b[0;36mKernel._input_request\u001b[0;34m(self, prompt, ident, parent, password)\u001b[0m\n\u001b[1;32m   1117\u001b[0m             \u001b[38;5;28;01mbreak\u001b[39;00m\n\u001b[1;32m   1118\u001b[0m \u001b[38;5;28;01mexcept\u001b[39;00m \u001b[38;5;167;01mKeyboardInterrupt\u001b[39;00m:\n\u001b[1;32m   1119\u001b[0m     \u001b[38;5;66;03m# re-raise KeyboardInterrupt, to truncate traceback\u001b[39;00m\n\u001b[0;32m-> 1120\u001b[0m     \u001b[38;5;28;01mraise\u001b[39;00m \u001b[38;5;167;01mKeyboardInterrupt\u001b[39;00m(\u001b[38;5;124m\"\u001b[39m\u001b[38;5;124mInterrupted by user\u001b[39m\u001b[38;5;124m\"\u001b[39m) \u001b[38;5;28;01mfrom\u001b[39;00m \u001b[38;5;28mNone\u001b[39m\n\u001b[1;32m   1121\u001b[0m \u001b[38;5;28;01mexcept\u001b[39;00m \u001b[38;5;167;01mException\u001b[39;00m:\n\u001b[1;32m   1122\u001b[0m     \u001b[38;5;28mself\u001b[39m\u001b[38;5;241m.\u001b[39mlog\u001b[38;5;241m.\u001b[39mwarning(\u001b[38;5;124m\"\u001b[39m\u001b[38;5;124mInvalid Message:\u001b[39m\u001b[38;5;124m\"\u001b[39m, exc_info\u001b[38;5;241m=\u001b[39m\u001b[38;5;28;01mTrue\u001b[39;00m)\n",
      "\u001b[0;31mKeyboardInterrupt\u001b[0m: Interrupted by user"
     ]
    }
   ],
   "source": [
    "def leggi():\n",
    "    N=0\n",
    "    while N<=0:\n",
    "        N = input()\n",
    "        while not(N.isdigit()):\n",
    "            N = input()\n",
    "        N = int(N)\n",
    "    return N\n",
    "\n",
    "tentativi=leggi()\n",
    "c='s'\n",
    "while c=='s': \n",
    "    n=int(random.random()*10)\n",
    "    print(n)\n",
    "    i=0\n",
    "    for i in range(tentativi):\n",
    "        a=leggi()\n",
    "        if a==n:\n",
    "            print('hai vinto')\n",
    "            break\n",
    "    if i==tentativi-1:\n",
    "        print('hai perso')\n",
    "    c=input('vuoi continuare? [s/n]')"
   ]
  },
  {
   "cell_type": "code",
   "execution_count": null,
   "id": "8d141da3-5fc7-4a09-93c4-4f4bb9ee9144",
   "metadata": {},
   "outputs": [],
   "source": []
  }
 ],
 "metadata": {
  "kernelspec": {
   "display_name": "Python 3 (ipykernel)",
   "language": "python",
   "name": "python3"
  },
  "language_info": {
   "codemirror_mode": {
    "name": "ipython",
    "version": 3
   },
   "file_extension": ".py",
   "mimetype": "text/x-python",
   "name": "python",
   "nbconvert_exporter": "python",
   "pygments_lexer": "ipython3",
   "version": "3.8.8"
  }
 },
 "nbformat": 4,
 "nbformat_minor": 5
}
