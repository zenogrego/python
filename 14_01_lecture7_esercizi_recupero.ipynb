{
 "cells": [
  {
   "cell_type": "code",
   "execution_count": 39,
   "id": "d2720925-c260-422d-be3c-144d59b77140",
   "metadata": {},
   "outputs": [],
   "source": [
    "import numpy as np\n",
    "import matplotlib.pyplot as plt\n",
    "import sympy as smp\n",
    "from sympy.vector import * "
   ]
  },
  {
   "cell_type": "code",
   "execution_count": 8,
   "id": "ba18b661-406f-4f14-8175-14322da8aa3e",
   "metadata": {},
   "outputs": [
    {
     "name": "stdout",
     "output_type": "stream",
     "text": [
      "0 0 0\n",
      "5 0 0\n"
     ]
    },
    {
     "data": {
      "text/plain": [
       "5.0"
      ]
     },
     "execution_count": 8,
     "metadata": {},
     "output_type": "execute_result"
    }
   ],
   "source": [
    "class punti:\n",
    "    def __init__(self, x=0, y=0, z=0):\n",
    "        self.x = x\n",
    "        self.y = y\n",
    "        self.z = z\n",
    "    \n",
    "    def coordinate(self):\n",
    "        print(str(self.x)+' '+str(self.y)+' '+str(self.z))\n",
    "    \n",
    "    def change_x(self, x):\n",
    "        self.x = x\n",
    "    def distanza(p1,p2):\n",
    "        return np.sqrt( (p1.x-p2.x)**2 + (p1.y-p2.y)**2 + (p1.z-p2.z)**2 )\n",
    "        \n",
    "punto=punti()\n",
    "punto.coordinate()\n",
    "punto.change_x(5)\n",
    "punto.coordinate()\n",
    "\n",
    "punto2=punti(5, 4, 3)\n",
    "\n",
    "punti.distanza(punto, punto2)"
   ]
  },
  {
   "cell_type": "code",
   "execution_count": 16,
   "id": "9bfccefe-6205-4d80-9ad3-e23fbbbff666",
   "metadata": {},
   "outputs": [],
   "source": [
    " x, y = np.loadtxt('/Users/zenogregorin/Desktop/ex2_data_python_4.txt', skiprows = 1 , unpack=True)"
   ]
  },
  {
   "cell_type": "code",
   "execution_count": 21,
   "id": "e2f33c82-e23b-4fb4-b59a-4d7f9d4c5b6e",
   "metadata": {},
   "outputs": [
    {
     "name": "stdout",
     "output_type": "stream",
     "text": [
      "2.5\n"
     ]
    }
   ],
   "source": [
    "x_c = np.sum(x)/len(x)\n",
    "print(x_c)"
   ]
  },
  {
   "cell_type": "code",
   "execution_count": 22,
   "id": "5fd87822-aff1-4d14-a141-81bda8852ab7",
   "metadata": {},
   "outputs": [
    {
     "name": "stdout",
     "output_type": "stream",
     "text": [
      "2.5\n"
     ]
    }
   ],
   "source": [
    "y_c = np.sum(y)/len(y)\n",
    "print(y_c)"
   ]
  },
  {
   "cell_type": "code",
   "execution_count": 33,
   "id": "44c1d66c-4144-4c43-b9da-b2ab0f343121",
   "metadata": {},
   "outputs": [
    {
     "name": "stdout",
     "output_type": "stream",
     "text": [
      "5.0 4.0\n"
     ]
    },
    {
     "name": "stdin",
     "output_type": "stream",
     "text": [
      " /Users/zenogregorin/Desktop/ex2_data_python_4.txt\n"
     ]
    },
    {
     "name": "stdout",
     "output_type": "stream",
     "text": [
      "[<__main__.punti object at 0x7f95361ed640>, <__main__.punti object at 0x7f9538511220>, <__main__.punti object at 0x7f953811d2b0>, <__main__.punti object at 0x7f95366345b0>, <__main__.punti object at 0x7f9538501e80>, <__main__.punti object at 0x7f9538501ac0>]\n",
      "2.5 2.5\n"
     ]
    }
   ],
   "source": [
    "class punti:\n",
    "    def __init__(self, x=0, y=0):\n",
    "        self.x = x\n",
    "        self.y = y\n",
    "        \n",
    "        \n",
    "    \n",
    "    def coordinate(self):\n",
    "        print(str(self.x)+' '+str(self.y))\n",
    "    \n",
    "    def change_x(self, x):\n",
    "        self.x = x\n",
    "        \n",
    "    def distanza(p1,p2):\n",
    "        return np.sqrt( (p1.x-p2.x)**2 + (p1.y-p2.y)**2 + (p1.z-p2.z)**2 )\n",
    "    \n",
    "    def baricentro(lista):\n",
    "        x_c=0\n",
    "        y_c=0\n",
    "        for p in lista:\n",
    "            x_c += p.x\n",
    "            y_c += p.y\n",
    "        x_c/=len(lista)\n",
    "        y_c/=len(lista)\n",
    "        return punti(x_c, y_c)\n",
    "\n",
    "punti.baricentro([punti(3,6),punti(7,2)]).coordinate()\n",
    "\n",
    "nome = input()\n",
    "x, y = np.loadtxt(nome, skiprows = 1 , unpack=True)\n",
    "lista=[]\n",
    "for i in range(len(x)):\n",
    "    lista=lista+[punti(x[i],y[i])]\n",
    "print(lista)\n",
    "punti.baricentro(lista).coordinate()"
   ]
  },
  {
   "cell_type": "code",
   "execution_count": null,
   "id": "b308c69e-0d63-41e1-892f-bf410c136d70",
   "metadata": {},
   "outputs": [],
   "source": [
    "#calcolo il prodotto scalare tra due liste"
   ]
  },
  {
   "cell_type": "code",
   "execution_count": 37,
   "id": "dd40711a-f758-46fe-a849-5e60ad7cd43d",
   "metadata": {},
   "outputs": [
    {
     "name": "stdout",
     "output_type": "stream",
     "text": [
      "1100\n"
     ]
    }
   ],
   "source": [
    "lista_1 = [2, 4, 6, 8, 10]\n",
    "lista_2 = [10, 20, 30, 40, 50]\n",
    "\n",
    "print(np.dot(lista_1, lista_2))      "
   ]
  },
  {
   "cell_type": "code",
   "execution_count": 48,
   "id": "0a057548-03d2-4686-ae4f-36147d1f5f7d",
   "metadata": {},
   "outputs": [],
   "source": [
    " u1, u2, u3, v1, v2, v3 = smp.symbols(' u_1 u_2 , u_3, v_1, v_2, v_3 ')"
   ]
  },
  {
   "cell_type": "code",
   "execution_count": 49,
   "id": "0c65bdb6-0e82-48ff-a202-52411533e458",
   "metadata": {},
   "outputs": [
    {
     "data": {
      "text/latex": [
       "$\\displaystyle u_{1}$"
      ],
      "text/plain": [
       "u_1"
      ]
     },
     "execution_count": 49,
     "metadata": {},
     "output_type": "execute_result"
    }
   ],
   "source": [
    "u1"
   ]
  },
  {
   "cell_type": "code",
   "execution_count": 54,
   "id": "21123c56-c4e1-46e5-8d3c-062125109e6a",
   "metadata": {},
   "outputs": [],
   "source": [
    "u = smp.Matrix([u1,u2,u3])\n",
    "v = smp.Matrix([v1,v2,v3])"
   ]
  },
  {
   "cell_type": "code",
   "execution_count": 55,
   "id": "8180efa0-a86f-4789-9b3f-6ce60a9227fd",
   "metadata": {},
   "outputs": [
    {
     "data": {
      "text/latex": [
       "$\\displaystyle \\left[\\begin{matrix}u_{1}\\\\u_{2}\\\\u_{3}\\end{matrix}\\right]$"
      ],
      "text/plain": [
       "Matrix([\n",
       "[u_1],\n",
       "[u_2],\n",
       "[u_3]])"
      ]
     },
     "execution_count": 55,
     "metadata": {},
     "output_type": "execute_result"
    }
   ],
   "source": [
    "u"
   ]
  },
  {
   "cell_type": "code",
   "execution_count": 56,
   "id": "1dae6749-38c6-4c0e-8a59-b7e30e9f6693",
   "metadata": {},
   "outputs": [
    {
     "data": {
      "text/latex": [
       "$\\displaystyle \\left[\\begin{matrix}v_{1}\\\\v_{2}\\\\v_{3}\\end{matrix}\\right]$"
      ],
      "text/plain": [
       "Matrix([\n",
       "[v_1],\n",
       "[v_2],\n",
       "[v_3]])"
      ]
     },
     "execution_count": 56,
     "metadata": {},
     "output_type": "execute_result"
    }
   ],
   "source": [
    "v"
   ]
  },
  {
   "cell_type": "code",
   "execution_count": 63,
   "id": "28d53e8f-5f24-4b08-a0f2-e06b68ef3d0e",
   "metadata": {},
   "outputs": [
    {
     "name": "stdout",
     "output_type": "stream",
     "text": [
      "u_1*v_1 + u_2*v_2 + u_3*v_3\n"
     ]
    }
   ],
   "source": [
    "def f(u, v):\n",
    "    return u.dot(v)\n",
    "print(f(u,v))"
   ]
  },
  {
   "cell_type": "code",
   "execution_count": 64,
   "id": "a824dad3-8990-40c7-8255-b9865712898d",
   "metadata": {},
   "outputs": [],
   "source": [
    "w1, w2, w3, y1, y2, y3, y4 = smp.symbols(' w_1, w_2, w_3, y_1, y_2, y_3, y_4 ')"
   ]
  },
  {
   "cell_type": "code",
   "execution_count": 78,
   "id": "4c5808da-7309-481c-adb1-b1c07d2b3570",
   "metadata": {},
   "outputs": [],
   "source": [
    "w = smp.Matrix([w1, w2, w3])\n",
    "y = smp.Matrix([y1, y2, y3, y4])"
   ]
  },
  {
   "cell_type": "code",
   "execution_count": 79,
   "id": "45720e78-fe2e-4c6c-b83a-490a5eee877c",
   "metadata": {},
   "outputs": [],
   "source": [
    "try:\n",
    "    def f(w,y):\n",
    "        return w.dot(y)\n",
    "except ValueError:\n",
    "    print('dimensionalità errata')\n",
    "    print(f(w,y))"
   ]
  },
  {
   "cell_type": "code",
   "execution_count": 80,
   "id": "6f2ae02c-72c5-4dac-b427-0f0829a480b6",
   "metadata": {},
   "outputs": [
    {
     "name": "stdout",
     "output_type": "stream",
     "text": [
      "12\n",
      "<function <lambda> at 0x7f953909fb80>\n",
      "3.5\n"
     ]
    }
   ],
   "source": [
    "#le funzioni lambda vengono utilizzate quando si vuole utilizzare una funzione\n",
    "#per un breve periodo di tempo senza stare a definire troppe cose.\n",
    "\n",
    "func = lambda a : a + 10  \n",
    "\n",
    "# la funzione lambda = lambda a : a + 10 \n",
    "# l'argomento = a \n",
    "# l'espressione è = a + 10 \n",
    "\n",
    "print(func(2)) #inserisco ad esempio il valore a = 2 e mi fa la somma di 2 + 10 = 12 \n",
    "\n",
    "\n",
    "\n",
    "f = lambda animale: animale.capitalize()\n",
    "print(f)\n",
    "\n",
    "\n",
    "func = lambda x, y : (x + y) / 2\n",
    "\n",
    "print(func(3,4))    #ad esempio gli chiediamo la media tra 3 e 4 \n",
    "\n"
   ]
  },
  {
   "cell_type": "code",
   "execution_count": null,
   "id": "6b0734cc-ed19-4f61-8ed9-86ff3ac6233e",
   "metadata": {},
   "outputs": [],
   "source": []
  }
 ],
 "metadata": {
  "kernelspec": {
   "display_name": "Python 3 (ipykernel)",
   "language": "python",
   "name": "python3"
  },
  "language_info": {
   "codemirror_mode": {
    "name": "ipython",
    "version": 3
   },
   "file_extension": ".py",
   "mimetype": "text/x-python",
   "name": "python",
   "nbconvert_exporter": "python",
   "pygments_lexer": "ipython3",
   "version": "3.8.8"
  }
 },
 "nbformat": 4,
 "nbformat_minor": 5
}
